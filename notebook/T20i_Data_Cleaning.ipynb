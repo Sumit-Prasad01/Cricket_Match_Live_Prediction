{
 "cells": [
  {
   "cell_type": "markdown",
   "id": "21dc4efc",
   "metadata": {},
   "source": [
    "# T20i Data Cleaning & Feature Engineering "
   ]
  },
  {
   "cell_type": "code",
   "execution_count": 25,
   "id": "9d0d56c1",
   "metadata": {},
   "outputs": [],
   "source": [
    "import os\n",
    "import pandas as pd\n",
    "import numpy as np\n",
    "from sqlalchemy import create_engine\n",
    "from dotenv import load_dotenv"
   ]
  },
  {
   "cell_type": "code",
   "execution_count": 3,
   "id": "5a93f551",
   "metadata": {},
   "outputs": [
    {
     "name": "stderr",
     "output_type": "stream",
     "text": [
      "python-dotenv could not parse statement starting at line 1\n",
      "python-dotenv could not parse statement starting at line 4\n",
      "python-dotenv could not parse statement starting at line 11\n"
     ]
    },
    {
     "data": {
      "text/plain": [
       "True"
      ]
     },
     "execution_count": 3,
     "metadata": {},
     "output_type": "execute_result"
    }
   ],
   "source": [
    "load_dotenv()"
   ]
  },
  {
   "cell_type": "code",
   "execution_count": 4,
   "id": "dac3cbe2",
   "metadata": {},
   "outputs": [],
   "source": [
    "DB_USER = os.getenv(\"DB_USER\")       \n",
    "DB_PASSWORD = os.getenv(\"DB_PASSWORD\")  \n",
    "DB_HOST = os.getenv(\"DB_HOST\")\n",
    "DB_PORT = os.getenv(\"DB_PORT\")\n",
    "DB_NAME = os.getenv(\"DB_NAME\")"
   ]
  },
  {
   "cell_type": "code",
   "execution_count": 5,
   "id": "85201246",
   "metadata": {},
   "outputs": [],
   "source": [
    "engine = create_engine(f\"postgresql://{DB_USER}:{DB_PASSWORD}@{DB_HOST}:{DB_PORT}/{DB_NAME}\")"
   ]
  },
  {
   "cell_type": "markdown",
   "id": "a46f7b69",
   "metadata": {},
   "source": [
    "## Load Dataset"
   ]
  },
  {
   "cell_type": "code",
   "execution_count": 6,
   "id": "abb05101",
   "metadata": {},
   "outputs": [],
   "source": [
    "df = pd.read_sql(\"Select * from t20i_data\", con = engine)"
   ]
  },
  {
   "cell_type": "code",
   "execution_count": 7,
   "id": "10195d26",
   "metadata": {},
   "outputs": [
    {
     "data": {
      "text/html": [
       "<div>\n",
       "<style scoped>\n",
       "    .dataframe tbody tr th:only-of-type {\n",
       "        vertical-align: middle;\n",
       "    }\n",
       "\n",
       "    .dataframe tbody tr th {\n",
       "        vertical-align: top;\n",
       "    }\n",
       "\n",
       "    .dataframe thead th {\n",
       "        text-align: right;\n",
       "    }\n",
       "</style>\n",
       "<table border=\"1\" class=\"dataframe\">\n",
       "  <thead>\n",
       "    <tr style=\"text-align: right;\">\n",
       "      <th></th>\n",
       "      <th>match_id</th>\n",
       "      <th>season</th>\n",
       "      <th>start_date</th>\n",
       "      <th>venue</th>\n",
       "      <th>innings</th>\n",
       "      <th>ball</th>\n",
       "      <th>batting_team</th>\n",
       "      <th>bowling_team</th>\n",
       "      <th>striker</th>\n",
       "      <th>non_striker</th>\n",
       "      <th>...</th>\n",
       "      <th>playing role_striker</th>\n",
       "      <th>major teams_striker</th>\n",
       "      <th>image url_striker</th>\n",
       "      <th>full name_bowler</th>\n",
       "      <th>country_bowler</th>\n",
       "      <th>batting style_bowler</th>\n",
       "      <th>bowling style_bowler</th>\n",
       "      <th>playing role_bowler</th>\n",
       "      <th>major teams_bowler</th>\n",
       "      <th>image url_bowler</th>\n",
       "    </tr>\n",
       "  </thead>\n",
       "  <tbody>\n",
       "    <tr>\n",
       "      <th>0</th>\n",
       "      <td>1001351</td>\n",
       "      <td>2016/17</td>\n",
       "      <td>2017-02-19</td>\n",
       "      <td>Simonds Stadium, South Geelong</td>\n",
       "      <td>2</td>\n",
       "      <td>8.5</td>\n",
       "      <td>Sri Lanka</td>\n",
       "      <td>Australia</td>\n",
       "      <td>DAS Gunaratne</td>\n",
       "      <td>CK Kapugedera</td>\n",
       "      <td>...</td>\n",
       "      <td>Batter</td>\n",
       "      <td>Sri Lanka, Sri Lanka Army Sports Club, Chattog...</td>\n",
       "      <td>https://img1.hscicdn.com/image/upload/f_auto,t...</td>\n",
       "      <td>Patrick James Cummins</td>\n",
       "      <td>Australia</td>\n",
       "      <td>Right hand Bat</td>\n",
       "      <td>Right arm Fast</td>\n",
       "      <td>Bowler</td>\n",
       "      <td>Australia, San Francisco Unicorns, Sunrisers H...</td>\n",
       "      <td>https://img1.hscicdn.com/image/upload/f_auto,t...</td>\n",
       "    </tr>\n",
       "    <tr>\n",
       "      <th>1</th>\n",
       "      <td>1001351</td>\n",
       "      <td>2016/17</td>\n",
       "      <td>2017-02-19</td>\n",
       "      <td>Simonds Stadium, South Geelong</td>\n",
       "      <td>2</td>\n",
       "      <td>8.6</td>\n",
       "      <td>Sri Lanka</td>\n",
       "      <td>Australia</td>\n",
       "      <td>CK Kapugedera</td>\n",
       "      <td>DAS Gunaratne</td>\n",
       "      <td>...</td>\n",
       "      <td>Middle order Batter</td>\n",
       "      <td>Sri Lanka, Chennai Super Kings, Colombo Cricke...</td>\n",
       "      <td>https://img1.hscicdn.com/image/upload/f_auto,t...</td>\n",
       "      <td>Patrick James Cummins</td>\n",
       "      <td>Australia</td>\n",
       "      <td>Right hand Bat</td>\n",
       "      <td>Right arm Fast</td>\n",
       "      <td>Bowler</td>\n",
       "      <td>Australia, San Francisco Unicorns, Sunrisers H...</td>\n",
       "      <td>https://img1.hscicdn.com/image/upload/f_auto,t...</td>\n",
       "    </tr>\n",
       "    <tr>\n",
       "      <th>2</th>\n",
       "      <td>1001351</td>\n",
       "      <td>2016/17</td>\n",
       "      <td>2017-02-19</td>\n",
       "      <td>Simonds Stadium, South Geelong</td>\n",
       "      <td>2</td>\n",
       "      <td>9.1</td>\n",
       "      <td>Sri Lanka</td>\n",
       "      <td>Australia</td>\n",
       "      <td>DAS Gunaratne</td>\n",
       "      <td>CK Kapugedera</td>\n",
       "      <td>...</td>\n",
       "      <td>Batter</td>\n",
       "      <td>Sri Lanka, Sri Lanka Army Sports Club, Chattog...</td>\n",
       "      <td>https://img1.hscicdn.com/image/upload/f_auto,t...</td>\n",
       "      <td>James Peter Faulkner</td>\n",
       "      <td>Australia</td>\n",
       "      <td>Right hand Bat</td>\n",
       "      <td>Left arm Fast medium</td>\n",
       "      <td>Bowling Allrounder</td>\n",
       "      <td>Australia, Australia A, Australia Under-19s, G...</td>\n",
       "      <td>https://img1.hscicdn.com/image/upload/f_auto,t...</td>\n",
       "    </tr>\n",
       "    <tr>\n",
       "      <th>3</th>\n",
       "      <td>1001351</td>\n",
       "      <td>2016/17</td>\n",
       "      <td>2017-02-19</td>\n",
       "      <td>Simonds Stadium, South Geelong</td>\n",
       "      <td>2</td>\n",
       "      <td>9.2</td>\n",
       "      <td>Sri Lanka</td>\n",
       "      <td>Australia</td>\n",
       "      <td>CK Kapugedera</td>\n",
       "      <td>DAS Gunaratne</td>\n",
       "      <td>...</td>\n",
       "      <td>Middle order Batter</td>\n",
       "      <td>Sri Lanka, Chennai Super Kings, Colombo Cricke...</td>\n",
       "      <td>https://img1.hscicdn.com/image/upload/f_auto,t...</td>\n",
       "      <td>James Peter Faulkner</td>\n",
       "      <td>Australia</td>\n",
       "      <td>Right hand Bat</td>\n",
       "      <td>Left arm Fast medium</td>\n",
       "      <td>Bowling Allrounder</td>\n",
       "      <td>Australia, Australia A, Australia Under-19s, G...</td>\n",
       "      <td>https://img1.hscicdn.com/image/upload/f_auto,t...</td>\n",
       "    </tr>\n",
       "    <tr>\n",
       "      <th>4</th>\n",
       "      <td>1001351</td>\n",
       "      <td>2016/17</td>\n",
       "      <td>2017-02-19</td>\n",
       "      <td>Simonds Stadium, South Geelong</td>\n",
       "      <td>2</td>\n",
       "      <td>9.3</td>\n",
       "      <td>Sri Lanka</td>\n",
       "      <td>Australia</td>\n",
       "      <td>CK Kapugedera</td>\n",
       "      <td>DAS Gunaratne</td>\n",
       "      <td>...</td>\n",
       "      <td>Middle order Batter</td>\n",
       "      <td>Sri Lanka, Chennai Super Kings, Colombo Cricke...</td>\n",
       "      <td>https://img1.hscicdn.com/image/upload/f_auto,t...</td>\n",
       "      <td>James Peter Faulkner</td>\n",
       "      <td>Australia</td>\n",
       "      <td>Right hand Bat</td>\n",
       "      <td>Left arm Fast medium</td>\n",
       "      <td>Bowling Allrounder</td>\n",
       "      <td>Australia, Australia A, Australia Under-19s, G...</td>\n",
       "      <td>https://img1.hscicdn.com/image/upload/f_auto,t...</td>\n",
       "    </tr>\n",
       "  </tbody>\n",
       "</table>\n",
       "<p>5 rows × 58 columns</p>\n",
       "</div>"
      ],
      "text/plain": [
       "   match_id   season  start_date                           venue  innings  \\\n",
       "0   1001351  2016/17  2017-02-19  Simonds Stadium, South Geelong        2   \n",
       "1   1001351  2016/17  2017-02-19  Simonds Stadium, South Geelong        2   \n",
       "2   1001351  2016/17  2017-02-19  Simonds Stadium, South Geelong        2   \n",
       "3   1001351  2016/17  2017-02-19  Simonds Stadium, South Geelong        2   \n",
       "4   1001351  2016/17  2017-02-19  Simonds Stadium, South Geelong        2   \n",
       "\n",
       "   ball batting_team bowling_team        striker    non_striker  ...  \\\n",
       "0   8.5    Sri Lanka    Australia  DAS Gunaratne  CK Kapugedera  ...   \n",
       "1   8.6    Sri Lanka    Australia  CK Kapugedera  DAS Gunaratne  ...   \n",
       "2   9.1    Sri Lanka    Australia  DAS Gunaratne  CK Kapugedera  ...   \n",
       "3   9.2    Sri Lanka    Australia  CK Kapugedera  DAS Gunaratne  ...   \n",
       "4   9.3    Sri Lanka    Australia  CK Kapugedera  DAS Gunaratne  ...   \n",
       "\n",
       "  playing role_striker                                major teams_striker  \\\n",
       "0               Batter  Sri Lanka, Sri Lanka Army Sports Club, Chattog...   \n",
       "1  Middle order Batter  Sri Lanka, Chennai Super Kings, Colombo Cricke...   \n",
       "2               Batter  Sri Lanka, Sri Lanka Army Sports Club, Chattog...   \n",
       "3  Middle order Batter  Sri Lanka, Chennai Super Kings, Colombo Cricke...   \n",
       "4  Middle order Batter  Sri Lanka, Chennai Super Kings, Colombo Cricke...   \n",
       "\n",
       "                                   image url_striker       full name_bowler  \\\n",
       "0  https://img1.hscicdn.com/image/upload/f_auto,t...  Patrick James Cummins   \n",
       "1  https://img1.hscicdn.com/image/upload/f_auto,t...  Patrick James Cummins   \n",
       "2  https://img1.hscicdn.com/image/upload/f_auto,t...   James Peter Faulkner   \n",
       "3  https://img1.hscicdn.com/image/upload/f_auto,t...   James Peter Faulkner   \n",
       "4  https://img1.hscicdn.com/image/upload/f_auto,t...   James Peter Faulkner   \n",
       "\n",
       "  country_bowler  batting style_bowler  bowling style_bowler  \\\n",
       "0      Australia        Right hand Bat        Right arm Fast   \n",
       "1      Australia        Right hand Bat        Right arm Fast   \n",
       "2      Australia        Right hand Bat  Left arm Fast medium   \n",
       "3      Australia        Right hand Bat  Left arm Fast medium   \n",
       "4      Australia        Right hand Bat  Left arm Fast medium   \n",
       "\n",
       "   playing role_bowler                                 major teams_bowler  \\\n",
       "0               Bowler  Australia, San Francisco Unicorns, Sunrisers H...   \n",
       "1               Bowler  Australia, San Francisco Unicorns, Sunrisers H...   \n",
       "2   Bowling Allrounder  Australia, Australia A, Australia Under-19s, G...   \n",
       "3   Bowling Allrounder  Australia, Australia A, Australia Under-19s, G...   \n",
       "4   Bowling Allrounder  Australia, Australia A, Australia Under-19s, G...   \n",
       "\n",
       "                                    image url_bowler  \n",
       "0  https://img1.hscicdn.com/image/upload/f_auto,t...  \n",
       "1  https://img1.hscicdn.com/image/upload/f_auto,t...  \n",
       "2  https://img1.hscicdn.com/image/upload/f_auto,t...  \n",
       "3  https://img1.hscicdn.com/image/upload/f_auto,t...  \n",
       "4  https://img1.hscicdn.com/image/upload/f_auto,t...  \n",
       "\n",
       "[5 rows x 58 columns]"
      ]
     },
     "execution_count": 7,
     "metadata": {},
     "output_type": "execute_result"
    }
   ],
   "source": [
    "df.head()"
   ]
  },
  {
   "cell_type": "code",
   "execution_count": 8,
   "id": "76e0e52f",
   "metadata": {},
   "outputs": [
    {
     "name": "stdout",
     "output_type": "stream",
     "text": [
      "Raw Shape: (415525, 58)\n"
     ]
    }
   ],
   "source": [
    "print(\"Raw Shape:\", df.shape)"
   ]
  },
  {
   "cell_type": "markdown",
   "id": "836151a8",
   "metadata": {},
   "source": [
    "## Drop Duplicates"
   ]
  },
  {
   "cell_type": "code",
   "execution_count": 9,
   "id": "15a55642",
   "metadata": {},
   "outputs": [],
   "source": [
    "df = df.drop_duplicates()"
   ]
  },
  {
   "cell_type": "markdown",
   "id": "f20826af",
   "metadata": {},
   "source": [
    "## Drop irrelevant columns (images, URLs, etc.)"
   ]
  },
  {
   "cell_type": "code",
   "execution_count": 10,
   "id": "7cbd055a",
   "metadata": {},
   "outputs": [],
   "source": [
    "df = df.drop(columns=['image url_striker','image url_bowler'], errors='ignore')"
   ]
  },
  {
   "cell_type": "markdown",
   "id": "3ca86977",
   "metadata": {},
   "source": [
    "## Handle missing values"
   ]
  },
  {
   "cell_type": "code",
   "execution_count": 11,
   "id": "9138b163",
   "metadata": {},
   "outputs": [],
   "source": [
    "df['runs_off_bat'] = df['runs_off_bat'].fillna(0)\n",
    "df['extras'] = df['extras'].fillna(0)\n",
    "df['wicket'] = df['wicket'].fillna(0)\n",
    "df['winner'] = df['winner'].fillna(\"Unknown\")"
   ]
  },
  {
   "cell_type": "markdown",
   "id": "233626f6",
   "metadata": {},
   "source": [
    "## Clean text fields"
   ]
  },
  {
   "cell_type": "code",
   "execution_count": 12,
   "id": "77fb7009",
   "metadata": {},
   "outputs": [],
   "source": [
    "df['batting_team'] = df['batting_team'].str.strip()\n",
    "df['bowling_team'] = df['bowling_team'].str.strip()"
   ]
  },
  {
   "cell_type": "code",
   "execution_count": 13,
   "id": "cdfd43b7",
   "metadata": {},
   "outputs": [
    {
     "name": "stdout",
     "output_type": "stream",
     "text": [
      "After Cleaning: (415525, 56)\n"
     ]
    }
   ],
   "source": [
    "print(\"After Cleaning:\", df.shape)"
   ]
  },
  {
   "cell_type": "markdown",
   "id": "1560e3a8",
   "metadata": {},
   "source": [
    "# MATCH-LEVEL FEATURES"
   ]
  },
  {
   "cell_type": "code",
   "execution_count": 14,
   "id": "1d8d5c9d",
   "metadata": {},
   "outputs": [],
   "source": [
    "match_summary = df.groupby('match_id').agg({\n",
    "    'runs_off_bat': 'sum',\n",
    "    'extras': 'sum',\n",
    "    'wicket': 'sum',\n",
    "    'winner': 'first',\n",
    "    'venue': 'first',\n",
    "    'season': 'first',\n",
    "    'toss_winner': 'first',\n",
    "    'toss_decision': 'first',\n",
    "    'batting_team': lambda x: list(x.unique()),\n",
    "    'bowling_team': lambda x: list(x.unique())\n",
    "}).reset_index()"
   ]
  },
  {
   "cell_type": "code",
   "execution_count": 15,
   "id": "577df26c",
   "metadata": {},
   "outputs": [],
   "source": [
    "match_summary.rename(columns={\n",
    "    'runs_off_bat':'total_runs',\n",
    "    'extras':'total_extras',\n",
    "    'wicket':'total_wickets'\n",
    "}, inplace=True)"
   ]
  },
  {
   "cell_type": "markdown",
   "id": "66b5241c",
   "metadata": {},
   "source": [
    "# OVER-LEVEL FEATURES"
   ]
  },
  {
   "cell_type": "code",
   "execution_count": 17,
   "id": "a5697e74",
   "metadata": {},
   "outputs": [],
   "source": [
    "df['over'] = df['ball'].astype(int)"
   ]
  },
  {
   "cell_type": "code",
   "execution_count": null,
   "id": "c2a427c2",
   "metadata": {},
   "outputs": [],
   "source": [
    "over_summary = df.groupby(['match_id','innings','over','batting_team']).agg({\n",
    "    'runs_off_bat':'sum',\n",
    "    'extras':'sum',\n",
    "    'wicket':'sum'\n",
    "}).reset_index()"
   ]
  },
  {
   "cell_type": "markdown",
   "id": "18617d16",
   "metadata": {},
   "source": [
    "## Add cumulative stats per innings"
   ]
  },
  {
   "cell_type": "code",
   "execution_count": 19,
   "id": "49eefe33",
   "metadata": {},
   "outputs": [],
   "source": [
    "over_summary['cumulative_runs'] = over_summary.groupby(['match_id','innings'])['runs_off_bat'].cumsum()\n",
    "over_summary['cumulative_wickets'] = over_summary.groupby(['match_id','innings'])['wicket'].cumsum()\n",
    "over_summary['run_rate'] = over_summary['cumulative_runs'] / over_summary['over']"
   ]
  },
  {
   "cell_type": "markdown",
   "id": "f59c7d4d",
   "metadata": {},
   "source": [
    "## MERGE WITH MATCH METADATA"
   ]
  },
  {
   "cell_type": "code",
   "execution_count": 20,
   "id": "e1aa50fb",
   "metadata": {},
   "outputs": [],
   "source": [
    "over_with_meta = over_summary.merge(\n",
    "    match_summary[['match_id','winner','venue','season','toss_winner','toss_decision']],\n",
    "    on='match_id', how='left'\n",
    ")"
   ]
  },
  {
   "cell_type": "markdown",
   "id": "1d51f62c",
   "metadata": {},
   "source": [
    "# FEATURE ENGINEERING"
   ]
  },
  {
   "cell_type": "code",
   "execution_count": 21,
   "id": "8ad70377",
   "metadata": {},
   "outputs": [],
   "source": [
    "MAX_OVERS = 20   \n",
    "over_with_meta['overs_left'] = MAX_OVERS - over_with_meta['over']"
   ]
  },
  {
   "cell_type": "markdown",
   "id": "509326aa",
   "metadata": {},
   "source": [
    "## Target runs (per match)"
   ]
  },
  {
   "cell_type": "code",
   "execution_count": 22,
   "id": "c424a9d7",
   "metadata": {},
   "outputs": [],
   "source": [
    "target_runs_per_match = over_with_meta.groupby('match_id')['cumulative_runs'].max().reset_index()\n",
    "target_runs_per_match.rename(columns={'cumulative_runs':'target_runs'}, inplace=True)"
   ]
  },
  {
   "cell_type": "code",
   "execution_count": 23,
   "id": "5a013f9a",
   "metadata": {},
   "outputs": [],
   "source": [
    "over_with_meta = over_with_meta.merge(target_runs_per_match, on='match_id', how='left')"
   ]
  },
  {
   "cell_type": "markdown",
   "id": "fb8e25b3",
   "metadata": {},
   "source": [
    "## Required runs & run rate (only for 2nd innings)"
   ]
  },
  {
   "cell_type": "code",
   "execution_count": 26,
   "id": "6bf9a868",
   "metadata": {},
   "outputs": [],
   "source": [
    "over_with_meta['required_runs'] = np.where(\n",
    "    over_with_meta['innings']==2,\n",
    "    over_with_meta['target_runs'] - over_with_meta['cumulative_runs'],\n",
    "    np.nan\n",
    ")"
   ]
  },
  {
   "cell_type": "code",
   "execution_count": 27,
   "id": "c40fc25c",
   "metadata": {},
   "outputs": [],
   "source": [
    "over_with_meta['required_run_rate'] = np.where(\n",
    "    (over_with_meta['innings']==2) & (over_with_meta['overs_left']>0),\n",
    "    over_with_meta['required_runs'] / over_with_meta['overs_left'],\n",
    "    np.nan\n",
    ")"
   ]
  },
  {
   "cell_type": "code",
   "execution_count": 28,
   "id": "1c165568",
   "metadata": {},
   "outputs": [
    {
     "name": "stdout",
     "output_type": "stream",
     "text": [
      "Final Over-Level Data Shape: (67329, 19)\n"
     ]
    }
   ],
   "source": [
    "print(\"Final Over-Level Data Shape:\", over_with_meta.shape)"
   ]
  },
  {
   "cell_type": "code",
   "execution_count": 30,
   "id": "7c22dafc",
   "metadata": {},
   "outputs": [
    {
     "name": "stdout",
     "output_type": "stream",
     "text": [
      "Cleaning & Feature Engineering complete. Files saved.\n"
     ]
    }
   ],
   "source": [
    "match_summary.to_csv(\"../data/T20i/t20i_match_summary.csv\", index=False)\n",
    "over_with_meta.to_csv(\"../data/T20i/t20i_over_features.csv\", index=False)\n",
    "\n",
    "print(\"Cleaning & Feature Engineering complete. Files saved.\")"
   ]
  }
 ],
 "metadata": {
  "kernelspec": {
   "display_name": ".cricket-env",
   "language": "python",
   "name": "python3"
  },
  "language_info": {
   "codemirror_mode": {
    "name": "ipython",
    "version": 3
   },
   "file_extension": ".py",
   "mimetype": "text/x-python",
   "name": "python",
   "nbconvert_exporter": "python",
   "pygments_lexer": "ipython3",
   "version": "3.12.4"
  }
 },
 "nbformat": 4,
 "nbformat_minor": 5
}
