{
 "cells": [
  {
   "cell_type": "markdown",
   "id": "35c80954",
   "metadata": {},
   "source": [
    "# ODI Data Cleaning & Feature Engineering "
   ]
  },
  {
   "cell_type": "code",
   "execution_count": 6,
   "id": "063f293a",
   "metadata": {},
   "outputs": [],
   "source": [
    "import os\n",
    "import pandas as pd\n",
    "import numpy as np\n",
    "from dotenv import load_dotenv\n",
    "from sqlalchemy import create_engine"
   ]
  },
  {
   "cell_type": "code",
   "execution_count": 3,
   "id": "4bf0a85f",
   "metadata": {},
   "outputs": [
    {
     "name": "stderr",
     "output_type": "stream",
     "text": [
      "python-dotenv could not parse statement starting at line 1\n",
      "python-dotenv could not parse statement starting at line 4\n",
      "python-dotenv could not parse statement starting at line 11\n"
     ]
    },
    {
     "data": {
      "text/plain": [
       "True"
      ]
     },
     "execution_count": 3,
     "metadata": {},
     "output_type": "execute_result"
    }
   ],
   "source": [
    "load_dotenv()"
   ]
  },
  {
   "cell_type": "code",
   "execution_count": 7,
   "id": "b492b098",
   "metadata": {},
   "outputs": [],
   "source": [
    "DB_USER = os.getenv(\"DB_USER\")       \n",
    "DB_PASSWORD = os.getenv(\"DB_PASSWORD\")  \n",
    "DB_HOST = os.getenv(\"DB_HOST\")\n",
    "DB_PORT = os.getenv(\"DB_PORT\")\n",
    "DB_NAME = os.getenv(\"DB_NAME\")"
   ]
  },
  {
   "cell_type": "code",
   "execution_count": 8,
   "id": "56d1d7bd",
   "metadata": {},
   "outputs": [],
   "source": [
    "engine = create_engine(f\"postgresql://{DB_USER}:{DB_PASSWORD}@{DB_HOST}:{DB_PORT}/{DB_NAME}\")"
   ]
  },
  {
   "cell_type": "markdown",
   "id": "ea657f94",
   "metadata": {},
   "source": [
    "## Load Dataset"
   ]
  },
  {
   "cell_type": "code",
   "execution_count": 10,
   "id": "0bb90b12",
   "metadata": {},
   "outputs": [],
   "source": [
    "df = pd.read_sql(\"Select * from odi_data\", con = engine)"
   ]
  },
  {
   "cell_type": "code",
   "execution_count": 11,
   "id": "63ab4fed",
   "metadata": {},
   "outputs": [
    {
     "data": {
      "text/html": [
       "<div>\n",
       "<style scoped>\n",
       "    .dataframe tbody tr th:only-of-type {\n",
       "        vertical-align: middle;\n",
       "    }\n",
       "\n",
       "    .dataframe tbody tr th {\n",
       "        vertical-align: top;\n",
       "    }\n",
       "\n",
       "    .dataframe thead th {\n",
       "        text-align: right;\n",
       "    }\n",
       "</style>\n",
       "<table border=\"1\" class=\"dataframe\">\n",
       "  <thead>\n",
       "    <tr style=\"text-align: right;\">\n",
       "      <th></th>\n",
       "      <th>match_id</th>\n",
       "      <th>season</th>\n",
       "      <th>start_date</th>\n",
       "      <th>venue</th>\n",
       "      <th>innings</th>\n",
       "      <th>ball</th>\n",
       "      <th>batting_team</th>\n",
       "      <th>bowling_team</th>\n",
       "      <th>striker</th>\n",
       "      <th>non_striker</th>\n",
       "      <th>...</th>\n",
       "      <th>playing role_striker</th>\n",
       "      <th>major teams_striker</th>\n",
       "      <th>image url_striker</th>\n",
       "      <th>full name_bowler</th>\n",
       "      <th>country_bowler</th>\n",
       "      <th>batting style_bowler</th>\n",
       "      <th>bowling style_bowler</th>\n",
       "      <th>playing role_bowler</th>\n",
       "      <th>major teams_bowler</th>\n",
       "      <th>image url_bowler</th>\n",
       "    </tr>\n",
       "  </thead>\n",
       "  <tbody>\n",
       "    <tr>\n",
       "      <th>0</th>\n",
       "      <td>1000887</td>\n",
       "      <td>2016/17</td>\n",
       "      <td>2017-01-13</td>\n",
       "      <td>Brisbane Cricket Ground, Woolloongabba</td>\n",
       "      <td>1</td>\n",
       "      <td>19.2</td>\n",
       "      <td>Australia</td>\n",
       "      <td>Pakistan</td>\n",
       "      <td>MS Wade</td>\n",
       "      <td>GJ Maxwell</td>\n",
       "      <td>...</td>\n",
       "      <td>Wicketkeeper Batter</td>\n",
       "      <td>Australia, Gujarat Titans, Australia A, Austra...</td>\n",
       "      <td>https://img1.hscicdn.com/image/upload/f_auto,t...</td>\n",
       "      <td>Mohammad Amir</td>\n",
       "      <td>Pakistan</td>\n",
       "      <td>Left hand Bat</td>\n",
       "      <td>Left arm Fast medium</td>\n",
       "      <td>Bowler</td>\n",
       "      <td>Pakistan, Antigua and Barbuda Falcons, Asia Li...</td>\n",
       "      <td>https://img1.hscicdn.com/image/upload/f_auto,t...</td>\n",
       "    </tr>\n",
       "    <tr>\n",
       "      <th>1</th>\n",
       "      <td>1000887</td>\n",
       "      <td>2016/17</td>\n",
       "      <td>2017-01-13</td>\n",
       "      <td>Brisbane Cricket Ground, Woolloongabba</td>\n",
       "      <td>1</td>\n",
       "      <td>19.3</td>\n",
       "      <td>Australia</td>\n",
       "      <td>Pakistan</td>\n",
       "      <td>GJ Maxwell</td>\n",
       "      <td>MS Wade</td>\n",
       "      <td>...</td>\n",
       "      <td>Batting Allrounder</td>\n",
       "      <td>Australia, Royal Challengers Bangalore, Victor...</td>\n",
       "      <td>https://img1.hscicdn.com/image/upload/f_auto,t...</td>\n",
       "      <td>Mohammad Amir</td>\n",
       "      <td>Pakistan</td>\n",
       "      <td>Left hand Bat</td>\n",
       "      <td>Left arm Fast medium</td>\n",
       "      <td>Bowler</td>\n",
       "      <td>Pakistan, Antigua and Barbuda Falcons, Asia Li...</td>\n",
       "      <td>https://img1.hscicdn.com/image/upload/f_auto,t...</td>\n",
       "    </tr>\n",
       "    <tr>\n",
       "      <th>2</th>\n",
       "      <td>1000887</td>\n",
       "      <td>2016/17</td>\n",
       "      <td>2017-01-13</td>\n",
       "      <td>Brisbane Cricket Ground, Woolloongabba</td>\n",
       "      <td>1</td>\n",
       "      <td>19.4</td>\n",
       "      <td>Australia</td>\n",
       "      <td>Pakistan</td>\n",
       "      <td>MS Wade</td>\n",
       "      <td>GJ Maxwell</td>\n",
       "      <td>...</td>\n",
       "      <td>Wicketkeeper Batter</td>\n",
       "      <td>Australia, Gujarat Titans, Australia A, Austra...</td>\n",
       "      <td>https://img1.hscicdn.com/image/upload/f_auto,t...</td>\n",
       "      <td>Mohammad Amir</td>\n",
       "      <td>Pakistan</td>\n",
       "      <td>Left hand Bat</td>\n",
       "      <td>Left arm Fast medium</td>\n",
       "      <td>Bowler</td>\n",
       "      <td>Pakistan, Antigua and Barbuda Falcons, Asia Li...</td>\n",
       "      <td>https://img1.hscicdn.com/image/upload/f_auto,t...</td>\n",
       "    </tr>\n",
       "    <tr>\n",
       "      <th>3</th>\n",
       "      <td>1000887</td>\n",
       "      <td>2016/17</td>\n",
       "      <td>2017-01-13</td>\n",
       "      <td>Brisbane Cricket Ground, Woolloongabba</td>\n",
       "      <td>1</td>\n",
       "      <td>19.5</td>\n",
       "      <td>Australia</td>\n",
       "      <td>Pakistan</td>\n",
       "      <td>MS Wade</td>\n",
       "      <td>GJ Maxwell</td>\n",
       "      <td>...</td>\n",
       "      <td>Wicketkeeper Batter</td>\n",
       "      <td>Australia, Gujarat Titans, Australia A, Austra...</td>\n",
       "      <td>https://img1.hscicdn.com/image/upload/f_auto,t...</td>\n",
       "      <td>Mohammad Amir</td>\n",
       "      <td>Pakistan</td>\n",
       "      <td>Left hand Bat</td>\n",
       "      <td>Left arm Fast medium</td>\n",
       "      <td>Bowler</td>\n",
       "      <td>Pakistan, Antigua and Barbuda Falcons, Asia Li...</td>\n",
       "      <td>https://img1.hscicdn.com/image/upload/f_auto,t...</td>\n",
       "    </tr>\n",
       "    <tr>\n",
       "      <th>4</th>\n",
       "      <td>1000889</td>\n",
       "      <td>2016/17</td>\n",
       "      <td>2017-01-15</td>\n",
       "      <td>Melbourne Cricket Ground</td>\n",
       "      <td>1</td>\n",
       "      <td>11.5</td>\n",
       "      <td>Australia</td>\n",
       "      <td>Pakistan</td>\n",
       "      <td>TM Head</td>\n",
       "      <td>SPD Smith</td>\n",
       "      <td>...</td>\n",
       "      <td>Top order Batter</td>\n",
       "      <td>Australia, Sunrisers Hyderabad, Washington Fre...</td>\n",
       "      <td>https://img1.hscicdn.com/image/upload/f_auto,t...</td>\n",
       "      <td>Mohammad Junaid Khan</td>\n",
       "      <td>Pakistan</td>\n",
       "      <td>Right hand Bat</td>\n",
       "      <td>Left arm Fast</td>\n",
       "      <td>Bowler</td>\n",
       "      <td>Pakistan, Abbottabad, Abbottabad Rhinos, Lanca...</td>\n",
       "      <td>https://img1.hscicdn.com/image/upload/f_auto,t...</td>\n",
       "    </tr>\n",
       "  </tbody>\n",
       "</table>\n",
       "<p>5 rows × 58 columns</p>\n",
       "</div>"
      ],
      "text/plain": [
       "   match_id   season  start_date                                   venue  \\\n",
       "0   1000887  2016/17  2017-01-13  Brisbane Cricket Ground, Woolloongabba   \n",
       "1   1000887  2016/17  2017-01-13  Brisbane Cricket Ground, Woolloongabba   \n",
       "2   1000887  2016/17  2017-01-13  Brisbane Cricket Ground, Woolloongabba   \n",
       "3   1000887  2016/17  2017-01-13  Brisbane Cricket Ground, Woolloongabba   \n",
       "4   1000889  2016/17  2017-01-15                Melbourne Cricket Ground   \n",
       "\n",
       "   innings  ball batting_team bowling_team     striker non_striker  ...  \\\n",
       "0        1  19.2    Australia     Pakistan     MS Wade  GJ Maxwell  ...   \n",
       "1        1  19.3    Australia     Pakistan  GJ Maxwell     MS Wade  ...   \n",
       "2        1  19.4    Australia     Pakistan     MS Wade  GJ Maxwell  ...   \n",
       "3        1  19.5    Australia     Pakistan     MS Wade  GJ Maxwell  ...   \n",
       "4        1  11.5    Australia     Pakistan     TM Head   SPD Smith  ...   \n",
       "\n",
       "  playing role_striker                                major teams_striker  \\\n",
       "0  Wicketkeeper Batter  Australia, Gujarat Titans, Australia A, Austra...   \n",
       "1   Batting Allrounder  Australia, Royal Challengers Bangalore, Victor...   \n",
       "2  Wicketkeeper Batter  Australia, Gujarat Titans, Australia A, Austra...   \n",
       "3  Wicketkeeper Batter  Australia, Gujarat Titans, Australia A, Austra...   \n",
       "4     Top order Batter  Australia, Sunrisers Hyderabad, Washington Fre...   \n",
       "\n",
       "                                   image url_striker      full name_bowler  \\\n",
       "0  https://img1.hscicdn.com/image/upload/f_auto,t...         Mohammad Amir   \n",
       "1  https://img1.hscicdn.com/image/upload/f_auto,t...         Mohammad Amir   \n",
       "2  https://img1.hscicdn.com/image/upload/f_auto,t...         Mohammad Amir   \n",
       "3  https://img1.hscicdn.com/image/upload/f_auto,t...         Mohammad Amir   \n",
       "4  https://img1.hscicdn.com/image/upload/f_auto,t...  Mohammad Junaid Khan   \n",
       "\n",
       "  country_bowler  batting style_bowler  bowling style_bowler  \\\n",
       "0       Pakistan         Left hand Bat  Left arm Fast medium   \n",
       "1       Pakistan         Left hand Bat  Left arm Fast medium   \n",
       "2       Pakistan         Left hand Bat  Left arm Fast medium   \n",
       "3       Pakistan         Left hand Bat  Left arm Fast medium   \n",
       "4       Pakistan        Right hand Bat         Left arm Fast   \n",
       "\n",
       "   playing role_bowler                                 major teams_bowler  \\\n",
       "0               Bowler  Pakistan, Antigua and Barbuda Falcons, Asia Li...   \n",
       "1               Bowler  Pakistan, Antigua and Barbuda Falcons, Asia Li...   \n",
       "2               Bowler  Pakistan, Antigua and Barbuda Falcons, Asia Li...   \n",
       "3               Bowler  Pakistan, Antigua and Barbuda Falcons, Asia Li...   \n",
       "4               Bowler  Pakistan, Abbottabad, Abbottabad Rhinos, Lanca...   \n",
       "\n",
       "                                    image url_bowler  \n",
       "0  https://img1.hscicdn.com/image/upload/f_auto,t...  \n",
       "1  https://img1.hscicdn.com/image/upload/f_auto,t...  \n",
       "2  https://img1.hscicdn.com/image/upload/f_auto,t...  \n",
       "3  https://img1.hscicdn.com/image/upload/f_auto,t...  \n",
       "4  https://img1.hscicdn.com/image/upload/f_auto,t...  \n",
       "\n",
       "[5 rows x 58 columns]"
      ]
     },
     "execution_count": 11,
     "metadata": {},
     "output_type": "execute_result"
    }
   ],
   "source": [
    "df.head()"
   ]
  },
  {
   "cell_type": "code",
   "execution_count": 12,
   "id": "084e3383",
   "metadata": {},
   "outputs": [
    {
     "name": "stdout",
     "output_type": "stream",
     "text": [
      "Raw Shape :  (1385154, 58)\n"
     ]
    }
   ],
   "source": [
    "print(\"Raw Shape : \", df.shape)"
   ]
  },
  {
   "cell_type": "markdown",
   "id": "7bd0ad88",
   "metadata": {},
   "source": [
    "## Drop Duplicates"
   ]
  },
  {
   "cell_type": "code",
   "execution_count": 14,
   "id": "c1f00690",
   "metadata": {},
   "outputs": [],
   "source": [
    "df = df.drop_duplicates()"
   ]
  },
  {
   "cell_type": "markdown",
   "id": "2eff81d2",
   "metadata": {},
   "source": [
    "## Drop Irrelevant columns (images, urls, etc..)"
   ]
  },
  {
   "cell_type": "code",
   "execution_count": null,
   "id": "4508afaf",
   "metadata": {},
   "outputs": [],
   "source": [
    "df = df.drop(columns = ['image url_striker', 'image url_bowler'], errors = 'ignore')"
   ]
  },
  {
   "cell_type": "markdown",
   "id": "0c88cfdc",
   "metadata": {},
   "source": [
    "## Handle Missing Values"
   ]
  },
  {
   "cell_type": "code",
   "execution_count": 18,
   "id": "2d2f496e",
   "metadata": {},
   "outputs": [],
   "source": [
    "df['runs_off_bat'] = df['runs_off_bat'].fillna(0)\n",
    "df['extras'] = df['extras'].fillna(0)\n",
    "df['wicket'] = df['wicket'].fillna(0)\n",
    "df['winner'] = df['winner'].fillna(\"Unknown\")"
   ]
  },
  {
   "cell_type": "markdown",
   "id": "f4c8506e",
   "metadata": {},
   "source": [
    "## Clean Text Fields"
   ]
  },
  {
   "cell_type": "code",
   "execution_count": 19,
   "id": "12d19038",
   "metadata": {},
   "outputs": [],
   "source": [
    "df['batting_team'] = df['batting_team'].str.strip()\n",
    "df['bowling_team'] = df['bowling_team'].str.strip()"
   ]
  },
  {
   "cell_type": "code",
   "execution_count": 20,
   "id": "ad19cf1a",
   "metadata": {},
   "outputs": [
    {
     "name": "stdout",
     "output_type": "stream",
     "text": [
      "After Cleaning :  (1385154, 56)\n"
     ]
    }
   ],
   "source": [
    "print(\"After Cleaning : \", df.shape)"
   ]
  },
  {
   "cell_type": "markdown",
   "id": "79ed1b2d",
   "metadata": {},
   "source": [
    "# MATCH-LEVEL FEATURES"
   ]
  },
  {
   "cell_type": "code",
   "execution_count": 21,
   "id": "e7d9f4ca",
   "metadata": {},
   "outputs": [],
   "source": [
    "match_summary = df.groupby('match_id').agg({\n",
    "    'runs_off_bat': 'sum',\n",
    "    'extras': 'sum',\n",
    "    'wicket': 'sum',\n",
    "    'winner': 'first',\n",
    "    'venue': 'first',\n",
    "    'season': 'first',\n",
    "    'toss_winner': 'first',\n",
    "    'toss_decision': 'first',\n",
    "    'batting_team': lambda x: list(x.unique()),\n",
    "    'bowling_team': lambda x: list(x.unique())\n",
    "}).reset_index()"
   ]
  },
  {
   "cell_type": "code",
   "execution_count": 22,
   "id": "f17e80f6",
   "metadata": {},
   "outputs": [],
   "source": [
    "match_summary.rename(columns={\n",
    "    'runs_off_bat':'total_runs',\n",
    "    'extras':'total_extras',\n",
    "    'wicket':'total_wickets'\n",
    "}, inplace=True)"
   ]
  },
  {
   "cell_type": "markdown",
   "id": "713e79e5",
   "metadata": {},
   "source": [
    "# OVER-LEVEL FEATURES"
   ]
  },
  {
   "cell_type": "code",
   "execution_count": 23,
   "id": "d140269d",
   "metadata": {},
   "outputs": [],
   "source": [
    "df['over'] = df['ball'].astype(int)"
   ]
  },
  {
   "cell_type": "code",
   "execution_count": 24,
   "id": "ba2fc731",
   "metadata": {},
   "outputs": [],
   "source": [
    "over_summary = df.groupby(['match_id','innings','over','batting_team']).agg({\n",
    "    'runs_off_bat':'sum',\n",
    "    'extras':'sum',\n",
    "    'wicket':'sum'\n",
    "}).reset_index()"
   ]
  },
  {
   "cell_type": "markdown",
   "id": "8ff63a0f",
   "metadata": {},
   "source": [
    "## Add cumulative stats per innings"
   ]
  },
  {
   "cell_type": "code",
   "execution_count": 25,
   "id": "be58b64a",
   "metadata": {},
   "outputs": [],
   "source": [
    "over_summary['cumulative_runs'] = over_summary.groupby(['match_id','innings'])['runs_off_bat'].cumsum()\n",
    "over_summary['cumulative_wickets'] = over_summary.groupby(['match_id','innings'])['wicket'].cumsum()\n",
    "over_summary['run_rate'] = over_summary['cumulative_runs'] / over_summary['over']"
   ]
  },
  {
   "cell_type": "markdown",
   "id": "d5c2d51a",
   "metadata": {},
   "source": [
    "# MERGE WITH MATCH MEATDATA"
   ]
  },
  {
   "cell_type": "code",
   "execution_count": 26,
   "id": "890bb66c",
   "metadata": {},
   "outputs": [],
   "source": [
    "over_with_meta = over_summary.merge(\n",
    "    match_summary[['match_id','winner','venue','season','toss_winner','toss_decision']],\n",
    "    on='match_id', how='left'\n",
    ")"
   ]
  },
  {
   "cell_type": "markdown",
   "id": "c766d0c3",
   "metadata": {},
   "source": [
    "# FEATURE ENGINEERING"
   ]
  },
  {
   "cell_type": "code",
   "execution_count": 27,
   "id": "4dcaf328",
   "metadata": {},
   "outputs": [],
   "source": [
    "MAX_OVERS = 50   \n",
    "over_with_meta['overs_left'] = MAX_OVERS - over_with_meta['over']"
   ]
  },
  {
   "cell_type": "markdown",
   "id": "c9017936",
   "metadata": {},
   "source": [
    "## Target Run(per match)"
   ]
  },
  {
   "cell_type": "code",
   "execution_count": 29,
   "id": "31f4963d",
   "metadata": {},
   "outputs": [],
   "source": [
    "target_runs_per_match = over_with_meta.groupby('match_id')['cumulative_runs'].max().reset_index()\n",
    "target_runs_per_match.rename(columns={'cumulative_runs':'target_runs'}, inplace=True)"
   ]
  },
  {
   "cell_type": "code",
   "execution_count": 30,
   "id": "5c32712f",
   "metadata": {},
   "outputs": [],
   "source": [
    "over_with_meta = over_with_meta.merge(target_runs_per_match, on='match_id', how='left')"
   ]
  },
  {
   "cell_type": "markdown",
   "id": "dc615ee2",
   "metadata": {},
   "source": [
    "## Required runs and run rate(only for 2nd innings)"
   ]
  },
  {
   "cell_type": "code",
   "execution_count": 31,
   "id": "b5bb61af",
   "metadata": {},
   "outputs": [],
   "source": [
    "over_with_meta['required_runs'] = np.where(\n",
    "    over_with_meta['innings']==2,\n",
    "    over_with_meta['target_runs'] - over_with_meta['cumulative_runs'],\n",
    "    np.nan\n",
    ")"
   ]
  },
  {
   "cell_type": "code",
   "execution_count": 32,
   "id": "52b4fd7c",
   "metadata": {},
   "outputs": [],
   "source": [
    "over_with_meta['required_run_rate'] = np.where(\n",
    "    (over_with_meta['innings']==2) & (over_with_meta['overs_left']>0),\n",
    "    over_with_meta['required_runs'] / over_with_meta['overs_left'],\n",
    "    np.nan\n",
    ")"
   ]
  },
  {
   "cell_type": "code",
   "execution_count": 33,
   "id": "0742bd87",
   "metadata": {},
   "outputs": [
    {
     "name": "stdout",
     "output_type": "stream",
     "text": [
      "Final Over-Level Data Shape : (225816, 19)\n"
     ]
    }
   ],
   "source": [
    "print(\"Final Over-Level Data Shape :\", over_with_meta.shape)"
   ]
  },
  {
   "cell_type": "code",
   "execution_count": 34,
   "id": "07583f2b",
   "metadata": {},
   "outputs": [
    {
     "name": "stdout",
     "output_type": "stream",
     "text": [
      "Cleaning & Feature Engineering complete. Files saved.\n"
     ]
    }
   ],
   "source": [
    "match_summary.to_csv(\"../data/ODI/odi_match_summary.csv\", index=False)\n",
    "over_with_meta.to_csv(\"../data/ODI/odi_over_features.csv\", index=False)\n",
    "\n",
    "print(\"Cleaning & Feature Engineering complete. Files saved.\")"
   ]
  }
 ],
 "metadata": {
  "kernelspec": {
   "display_name": ".cricket-env",
   "language": "python",
   "name": "python3"
  },
  "language_info": {
   "codemirror_mode": {
    "name": "ipython",
    "version": 3
   },
   "file_extension": ".py",
   "mimetype": "text/x-python",
   "name": "python",
   "nbconvert_exporter": "python",
   "pygments_lexer": "ipython3",
   "version": "3.12.4"
  }
 },
 "nbformat": 4,
 "nbformat_minor": 5
}
