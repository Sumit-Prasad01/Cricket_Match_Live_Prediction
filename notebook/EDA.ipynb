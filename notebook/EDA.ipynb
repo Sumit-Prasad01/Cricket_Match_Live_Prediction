{
 "cells": [
  {
   "cell_type": "markdown",
   "id": "3a593ebc",
   "metadata": {},
   "source": [
    "## Import libraries"
   ]
  },
  {
   "cell_type": "markdown",
   "id": "446eee9a",
   "metadata": {},
   "source": [
    "## Database Config"
   ]
  },
  {
   "cell_type": "markdown",
   "id": "0ec19b01",
   "metadata": {},
   "source": [
    "## Create Engine"
   ]
  },
  {
   "cell_type": "markdown",
   "id": "afed6458",
   "metadata": {},
   "source": [
    "## Load Dataset"
   ]
  }
 ],
 "metadata": {
  "kernelspec": {
   "display_name": ".cricket-env",
   "language": "python",
   "name": "python3"
  },
  "language_info": {
   "codemirror_mode": {
    "name": "ipython",
    "version": 3
   },
   "file_extension": ".py",
   "mimetype": "text/x-python",
   "name": "python",
   "nbconvert_exporter": "python",
   "pygments_lexer": "ipython3",
   "version": "3.12.4"
  }
 },
 "nbformat": 4,
 "nbformat_minor": 5
}
